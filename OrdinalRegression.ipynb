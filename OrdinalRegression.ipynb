{
  "cells": [
    {
      "cell_type": "markdown",
      "source": [
        "#**Slogan Persuasiveness**"
      ],
      "metadata": {
        "id": "hkcTNbO_Mucm"
      }
    },
    {
      "cell_type": "markdown",
      "source": [
        "## **Part A: Build a Predictive Model**"
      ],
      "metadata": {
        "id": "dzl24w3nkUqz"
      }
    },
    {
      "cell_type": "markdown",
      "source": [
        "## **Imports and Data Preprocessing**"
      ],
      "metadata": {
        "id": "tVyqG1MANR9V"
      }
    },
    {
      "cell_type": "code",
      "execution_count": 1,
      "metadata": {
        "id": "TQTT9x-6d2JI"
      },
      "outputs": [],
      "source": [
        "from scipy import sparse\n",
        "from sklearn import linear_model\n",
        "from collections import Counter\n",
        "import numpy as np\n",
        "import operator\n",
        "import nltk\n",
        "import math\n",
        "from scipy.stats import norm\n",
        "import re"
      ]
    },
    {
      "cell_type": "code",
      "source": [
        "pip install langdetect"
      ],
      "metadata": {
        "colab": {
          "base_uri": "https://localhost:8080/"
        },
        "id": "Mnm0YPlVWsTu",
        "outputId": "29cb1334-5683-4154-9fb1-b7ee344bc163"
      },
      "execution_count": 2,
      "outputs": [
        {
          "output_type": "stream",
          "name": "stdout",
          "text": [
            "Requirement already satisfied: langdetect in /usr/local/lib/python3.10/dist-packages (1.0.9)\n",
            "Requirement already satisfied: six in /usr/local/lib/python3.10/dist-packages (from langdetect) (1.16.0)\n"
          ]
        }
      ]
    },
    {
      "cell_type": "code",
      "source": [
        "nltk.download('stopwords')"
      ],
      "metadata": {
        "colab": {
          "base_uri": "https://localhost:8080/"
        },
        "id": "aynMhpLljHul",
        "outputId": "b04b30aa-ad10-45fd-9c54-73b06b5e3e17"
      },
      "execution_count": 3,
      "outputs": [
        {
          "output_type": "stream",
          "name": "stderr",
          "text": [
            "[nltk_data] Downloading package stopwords to /root/nltk_data...\n",
            "[nltk_data]   Package stopwords is already up-to-date!\n"
          ]
        },
        {
          "output_type": "execute_result",
          "data": {
            "text/plain": [
              "True"
            ]
          },
          "metadata": {},
          "execution_count": 3
        }
      ]
    },
    {
      "cell_type": "code",
      "source": [
        "from langdetect import detect"
      ],
      "metadata": {
        "id": "U-NTDc4eW1ia"
      },
      "execution_count": 4,
      "outputs": []
    },
    {
      "cell_type": "code",
      "execution_count": 5,
      "metadata": {
        "colab": {
          "base_uri": "https://localhost:8080/"
        },
        "id": "e4KuVSCSqlUX",
        "outputId": "cd492395-9fe8-4873-a844-f22a235e713e"
      },
      "outputs": [
        {
          "output_type": "stream",
          "name": "stdout",
          "text": [
            "/usr/lib/python3.10/runpy.py:126: RuntimeWarning: 'nltk.downloader' found in sys.modules after import of package 'nltk', but prior to execution of 'nltk.downloader'; this may result in unpredictable behaviour\n",
            "  warn(RuntimeWarning(msg))\n",
            "[nltk_data] Downloading package punkt to /root/nltk_data...\n",
            "[nltk_data]   Package punkt is already up-to-date!\n"
          ]
        }
      ],
      "source": [
        "!python -m nltk.downloader punkt"
      ]
    },
    {
      "cell_type": "code",
      "execution_count": 6,
      "metadata": {
        "id": "lRy6g9YiDI_G"
      },
      "outputs": [],
      "source": [
        "def load_ordinal_data(filename, ordering):\n",
        "    X = []\n",
        "    Y = []\n",
        "    orig_Y=[]\n",
        "    for ordinal in ordering:\n",
        "        Y.append([])\n",
        "\n",
        "    with open(filename, encoding=\"utf-8\") as file:\n",
        "        for line in file:\n",
        "            cols = line.split(\"\\t\")\n",
        "            idd = cols[0]\n",
        "            label = cols[2].lstrip().rstrip()\n",
        "            text = cols[3]\n",
        "\n",
        "            X.append(text)\n",
        "\n",
        "            index=ordering.index(label)\n",
        "            for i in range(len(ordering)):\n",
        "                if index > i:\n",
        "                    Y[i].append(1)\n",
        "                else:\n",
        "                    Y[i].append(0)\n",
        "            orig_Y.append(label)\n",
        "\n",
        "    return X, Y, orig_Y"
      ]
    },
    {
      "cell_type": "markdown",
      "source": [
        "## **Ordinal Classifier (Baseline)**"
      ],
      "metadata": {
        "id": "wqDcz1EANnWk"
      }
    },
    {
      "cell_type": "code",
      "execution_count": 7,
      "metadata": {
        "id": "Tw7lk9UZDI_G"
      },
      "outputs": [],
      "source": [
        "class OrdinalClassifier:\n",
        "\n",
        "    def __init__(self, ordinal_values, feature_method, trainX, trainY, devX, devY, testX, testY, orig_trainY, orig_devY, orig_testY):\n",
        "        self.ordinal_values=ordinal_values\n",
        "        self.feature_vocab = {}\n",
        "        self.feature_method = feature_method\n",
        "        self.min_feature_count=2\n",
        "        self.log_regs = [None]* (len(self.ordinal_values)-1)\n",
        "\n",
        "        self.trainY=trainY\n",
        "        self.devY=devY\n",
        "        self.testY=testY\n",
        "\n",
        "        self.orig_trainY=orig_trainY\n",
        "        self.orig_devY=orig_devY\n",
        "        self.orig_testY=orig_testY\n",
        "\n",
        "        self.trainX = self.process(trainX, training=True)\n",
        "        self.devX = self.process(devX, training=False)\n",
        "        self.testX = self.process(testX, training=False)\n",
        "\n",
        "        self.predictions = []\n",
        "\n",
        "    # Featurize entire dataset\n",
        "    def featurize(self, data):\n",
        "        featurized_data = []\n",
        "        for text in data:\n",
        "            feats = self.feature_method(text)\n",
        "            featurized_data.append(feats)\n",
        "        return featurized_data\n",
        "\n",
        "    # Read dataset and returned featurized representation as sparse matrix + label array\n",
        "    def process(self, X_data, training = False):\n",
        "\n",
        "        data = self.featurize(X_data)\n",
        "\n",
        "        if training:\n",
        "            fid = 0\n",
        "            feature_doc_count = Counter()\n",
        "            for feats in data:\n",
        "                for feat in feats:\n",
        "                    feature_doc_count[feat]+= 1\n",
        "\n",
        "            for feat in feature_doc_count:\n",
        "                if feature_doc_count[feat] >= self.min_feature_count:\n",
        "                    self.feature_vocab[feat] = fid\n",
        "                    fid += 1\n",
        "\n",
        "        F = len(self.feature_vocab)\n",
        "        D = len(data)\n",
        "        X = sparse.dok_matrix((D, F))\n",
        "        for idx, feats in enumerate(data):\n",
        "            for feat in feats:\n",
        "                if feat in self.feature_vocab:\n",
        "                    X[idx, self.feature_vocab[feat]] = feats[feat]\n",
        "\n",
        "        return X\n",
        "\n",
        "\n",
        "    def train(self):\n",
        "        (D,F) = self.trainX.shape\n",
        "\n",
        "\n",
        "        for idx, ordinal_value in enumerate(self.ordinal_values[:-1]):\n",
        "            best_dev_accuracy=0\n",
        "            best_model=None\n",
        "            for C in [0.1, 1, 10, 100]:\n",
        "\n",
        "                log_reg = linear_model.LogisticRegression(C = C, max_iter=1000)\n",
        "                log_reg.fit(self.trainX, self.trainY[idx])\n",
        "                development_accuracy = log_reg.score(self.devX, self.devY[idx])\n",
        "                if development_accuracy > best_dev_accuracy:\n",
        "                    best_dev_accuracy=development_accuracy\n",
        "                    best_model=log_reg\n",
        "\n",
        "\n",
        "            self.log_regs[idx]=best_model\n",
        "\n",
        "    def test(self):\n",
        "        cor=tot=0\n",
        "        counts=Counter()\n",
        "        preds=[None]*(len(self.ordinal_values)-1)\n",
        "        for idx, ordinal_value in enumerate(self.ordinal_values[:-1]):\n",
        "            preds[idx]=self.log_regs[idx].predict_proba(self.testX)[:,1]\n",
        "\n",
        "        preds=np.array(preds)\n",
        "\n",
        "        for data_point in range(len(preds[0])):\n",
        "\n",
        "\n",
        "            ordinal_preds=np.zeros(len(self.ordinal_values))\n",
        "            for ordinal in range(len(self.ordinal_values)-1):\n",
        "                if ordinal == 0:\n",
        "                    ordinal_preds[ordinal]=1-preds[ordinal][data_point]\n",
        "                else:\n",
        "                    ordinal_preds[ordinal]=preds[ordinal-1][data_point]-preds[ordinal][data_point]\n",
        "\n",
        "            ordinal_preds[len(self.ordinal_values)-1]=preds[len(preds)-1][data_point]\n",
        "\n",
        "            prediction=np.argmax(ordinal_preds)\n",
        "            counts[prediction]+=1\n",
        "            if prediction == self.ordinal_values.index(self.orig_testY[data_point]):\n",
        "                cor+=1\n",
        "            tot+=1\n",
        "\n",
        "        return cor/tot"
      ]
    },
    {
      "cell_type": "code",
      "execution_count": 8,
      "metadata": {
        "id": "8clAbNOsDI_G"
      },
      "outputs": [],
      "source": [
        "def binary_bow_featurize(text):\n",
        "    feats = {}\n",
        "    words = nltk.word_tokenize(text)\n",
        "\n",
        "    for word in words:\n",
        "        word=word.lower()\n",
        "        feats[word]=1\n",
        "\n",
        "    return feats"
      ]
    },
    {
      "cell_type": "code",
      "execution_count": 9,
      "metadata": {
        "id": "_yZkKgZoDI_G"
      },
      "outputs": [],
      "source": [
        "def confidence_intervals(accuracy, n, significance_level):\n",
        "    critical_value=(1-significance_level)/2\n",
        "    z_alpha=-1*norm.ppf(critical_value)\n",
        "    se=math.sqrt((accuracy*(1-accuracy))/n)\n",
        "    return accuracy-(se*z_alpha), accuracy+(se*z_alpha)"
      ]
    },
    {
      "cell_type": "code",
      "execution_count": 10,
      "metadata": {
        "id": "yhtUbgIMDI_G"
      },
      "outputs": [],
      "source": [
        "def run(trainingFile, devFile, testFile, ordinal_values):\n",
        "\n",
        "    trainX, trainY, orig_trainY=load_ordinal_data(trainingFile, ordinal_values)\n",
        "    devX, devY, orig_devY=load_ordinal_data(devFile, ordinal_values)\n",
        "    testX, testY, orig_testY=load_ordinal_data(testFile, ordinal_values)\n",
        "\n",
        "    simple_classifier = OrdinalClassifier(ordinal_values, binary_bow_featurize, trainX, trainY, devX, devY, testX, testY, orig_trainY, orig_devY, orig_testY)\n",
        "    simple_classifier.train()\n",
        "    accuracy=simple_classifier.test()\n",
        "\n",
        "    lower, upper=confidence_intervals(accuracy, len(testY[0]), .95)\n",
        "    print(\"Accuracy for baseline method (blindly guessing one of 5 categories): 0.2\")\n",
        "    print(\" \")\n",
        "    print(\"Accuracy for baseline ordinal regression model:\")\n",
        "    print(\"Test accuracy for best dev model: %.3f, 95%% CIs: [%.3f %.3f]\\n\" % (accuracy, lower, upper))"
      ]
    },
    {
      "cell_type": "markdown",
      "source": [
        "### **Baseline Ordinal Model Accuracy**"
      ],
      "metadata": {
        "id": "gtAKGrKzVC0q"
      }
    },
    {
      "cell_type": "code",
      "execution_count": 11,
      "metadata": {
        "id": "06N5WofADI_G",
        "outputId": "40cff697-74b9-4d9f-e15f-bf5981d99c6c",
        "colab": {
          "base_uri": "https://localhost:8080/"
        }
      },
      "outputs": [
        {
          "output_type": "stream",
          "name": "stdout",
          "text": [
            "Accuracy for baseline method (blindly guessing one of 5 categories): 0.2\n",
            " \n",
            "Accuracy for baseline ordinal regression model:\n",
            "Test accuracy for best dev model: 0.430, 95% CIs: [0.333 0.527]\n",
            "\n"
          ]
        }
      ],
      "source": [
        "trainingFile = \"../splits/train.txt\"\n",
        "devFile = \"../splits/dev.txt\"\n",
        "testFile = \"../splits/test.txt\"\n",
        "\n",
        "ordinal_values=[\"1\", \"2\", \"3\", \"4\", \"5\"]\n",
        "\n",
        "run(trainingFile, devFile, testFile, ordinal_values)"
      ]
    },
    {
      "cell_type": "markdown",
      "source": [
        "## **Improved Predictive Model**"
      ],
      "metadata": {
        "id": "acrSq0KmO5UN"
      }
    },
    {
      "cell_type": "markdown",
      "source": [
        "### **Feature Engineering**"
      ],
      "metadata": {
        "id": "rt13oiWlPVll"
      }
    },
    {
      "cell_type": "markdown",
      "source": [
        "### Feature 1: Slogan Length"
      ],
      "metadata": {
        "id": "0i2dNKi9O84k"
      }
    },
    {
      "cell_type": "code",
      "execution_count": 12,
      "metadata": {
        "id": "xCq1bL3e2jUj"
      },
      "outputs": [],
      "source": [
        "def slogan_length(text, max_len = 100):\n",
        "  if len(text) > max_len:\n",
        "    return False\n",
        "  else:\n",
        "    return True"
      ]
    },
    {
      "cell_type": "markdown",
      "source": [
        "### Feature 2: Punctuation"
      ],
      "metadata": {
        "id": "adhgBag3P94j"
      }
    },
    {
      "cell_type": "code",
      "source": [
        "def punctuation(text):\n",
        "  if \".\" in text:\n",
        "    return False\n",
        "  elif \"!\" in text or \"?\" in text:\n",
        "    return True\n",
        "  else:\n",
        "    return False"
      ],
      "metadata": {
        "id": "1og3-6IDQHqP"
      },
      "execution_count": 13,
      "outputs": []
    },
    {
      "cell_type": "markdown",
      "source": [
        "### Feature 3: Readability"
      ],
      "metadata": {
        "id": "Me6V9GYXSnwS"
      }
    },
    {
      "cell_type": "code",
      "source": [
        "def readability(text):\n",
        "  return all(c.isalnum() or c.isspace() for c in text)"
      ],
      "metadata": {
        "id": "i2P1QgOgTsEf"
      },
      "execution_count": 14,
      "outputs": []
    },
    {
      "cell_type": "markdown",
      "source": [
        "### Feature 4: English"
      ],
      "metadata": {
        "id": "iFQGPJwLW7rZ"
      }
    },
    {
      "cell_type": "code",
      "source": [
        "def english(text):\n",
        "  try:\n",
        "    return detect(text) == 'en'\n",
        "  except:\n",
        "    return False"
      ],
      "metadata": {
        "id": "JdpQs1zaW63R"
      },
      "execution_count": 15,
      "outputs": []
    },
    {
      "cell_type": "markdown",
      "source": [
        "### Feature 5: Rhyme"
      ],
      "metadata": {
        "id": "FvG6PpV7ZP6H"
      }
    },
    {
      "cell_type": "code",
      "source": [
        "def get_ending_sounds(word):\n",
        "  vowel_pattern = re.compile(r\"[aeiouy]+[^aeiouy]*$\", re.IGNORECASE)\n",
        "  match = vowel_pattern.search(word)\n",
        "  return match.group(0) if match else \"\"\n",
        "\n",
        "def rhyme(text):\n",
        "  words = text.split()\n",
        "\n",
        "  ending_sounds = set()\n",
        "  for word in words:\n",
        "    if len(word) < 4:\n",
        "      continue\n",
        "    sound = get_ending_sounds(word)\n",
        "    if sound in ending_sounds:\n",
        "      return True\n",
        "    else:\n",
        "      ending_sounds.add(sound)\n",
        "  return False"
      ],
      "metadata": {
        "id": "W994h7e6aGet"
      },
      "execution_count": 16,
      "outputs": []
    },
    {
      "cell_type": "markdown",
      "source": [
        "### Feature 6: Alliteration"
      ],
      "metadata": {
        "id": "OrboTTUyZS2M"
      }
    },
    {
      "cell_type": "code",
      "source": [
        "def alliteration(text):\n",
        "  words = text.lower().split()\n",
        "  first_letters = [word[0] for word in words if word]\n",
        "  alliteration_score = 1 if len(set(first_letters)) < len(first_letters) else 0\n",
        "  if alliteration_score == 1:\n",
        "    return True\n",
        "  else:\n",
        "    return False"
      ],
      "metadata": {
        "id": "UtO31zrbZUol"
      },
      "execution_count": 17,
      "outputs": []
    },
    {
      "cell_type": "markdown",
      "source": [
        "### Feature 7: Action Words"
      ],
      "metadata": {
        "id": "-hUw-TanX5Vl"
      }
    },
    {
      "cell_type": "code",
      "source": [
        "def action_words(text):\n",
        "  action_words = [\n",
        "      'achieve', 'build', 'complete', 'develop', 'establish', 'improve',\n",
        "      'increase', 'lead', 'manage', 'organize', 'perform', 'produce',\n",
        "      'reduce', 'resolve', 'solve', 'start', 'upgrade'\n",
        "  ]\n",
        "  pattern = r'\\b(' + '|'.join(action_words) + r')\\b'\n",
        "\n",
        "  if re.search(pattern, text, re.IGNORECASE):\n",
        "      return True\n",
        "  return False"
      ],
      "metadata": {
        "id": "ssxYYLYgX50f"
      },
      "execution_count": 18,
      "outputs": []
    },
    {
      "cell_type": "markdown",
      "source": [
        "### Feature 8: Compelling Words"
      ],
      "metadata": {
        "id": "euNAP5l1chuf"
      }
    },
    {
      "cell_type": "code",
      "source": [
        "def compelling(text):\n",
        "  comp = {'new', 'free', 'save', 'love', 'best', 'world', 'forever', 'unmistakable', 'natural'}\n",
        "  for w in comp:\n",
        "    if w in text:\n",
        "      return True\n",
        "  return False"
      ],
      "metadata": {
        "id": "7411FMi2cm7C"
      },
      "execution_count": 19,
      "outputs": []
    },
    {
      "cell_type": "markdown",
      "source": [
        "### Feature 9: Stop Words"
      ],
      "metadata": {
        "id": "25iftrRqh-9W"
      }
    },
    {
      "cell_type": "code",
      "source": [
        "def stopwords(text):\n",
        "  count = 0\n",
        "  stop_words = set(nltk.corpus.stopwords.words('english'))\n",
        "  for stop in stop_words:\n",
        "    if stop in text:\n",
        "      count += 1\n",
        "  if count > 5:\n",
        "    return True\n",
        "  else:\n",
        "    return False"
      ],
      "metadata": {
        "id": "UyF6FJ2Vgx6l"
      },
      "execution_count": 20,
      "outputs": []
    },
    {
      "cell_type": "markdown",
      "source": [
        "### Persuasiveness Features"
      ],
      "metadata": {
        "id": "TA9uXpQPU3C8"
      }
    },
    {
      "cell_type": "code",
      "source": [
        "def persuasiveness_features(text):\n",
        "  features = {\n",
        "      'length': slogan_length(text),\n",
        "      'punctuation': punctuation(text),\n",
        "      #'readability': readability(text),\n",
        "      'english': english(text),\n",
        "      'rhyme': rhyme(text),\n",
        "      'alliteration': alliteration(text),\n",
        "      'action_words': action_words(text),\n",
        "      'compelling_words': compelling(text),\n",
        "      #'stop_words': stopwords(text),\n",
        "  }\n",
        "  return features"
      ],
      "metadata": {
        "id": "qobjopdMVdfb"
      },
      "execution_count": 21,
      "outputs": []
    },
    {
      "cell_type": "markdown",
      "source": [
        "In this section, we manually conducted feature selection in order to see which features were helping the model accurately classify models. Through this section, we found that features such as punctuation (whether a slogan had a ? or !) and readability (if all characters were numbers or letters) didn't help the model increase its accuracy. We also found that certain features such as rhyme and length were crucial in any iteration to help the model assess a slogan's persuasiveness."
      ],
      "metadata": {
        "id": "5ki_V5vjex_q"
      }
    },
    {
      "cell_type": "markdown",
      "source": [
        "### **Predictive Model Accuracy**"
      ],
      "metadata": {
        "id": "HL2A6Db5VMDw"
      }
    },
    {
      "cell_type": "code",
      "source": [
        "def run_predictive_model(trainingFile, devFile, testFile, ordinal_values):\n",
        "    trainX, trainY, orig_trainY=load_ordinal_data(trainingFile, ordinal_values)\n",
        "    devX, devY, orig_devY=load_ordinal_data(devFile, ordinal_values)\n",
        "    testX, testY, orig_testY=load_ordinal_data(testFile, ordinal_values)\n",
        "\n",
        "    simple_classifier = OrdinalClassifier(ordinal_values, persuasiveness_features, trainX, trainY, devX, devY, testX, testY, orig_trainY, orig_devY, orig_testY)\n",
        "    simple_classifier.train()\n",
        "    accuracy = simple_classifier.test()\n",
        "\n",
        "    lower, upper=confidence_intervals(accuracy, len(testY[0]), .95)\n",
        "    print(\"Accuracy for predictive ordinal model with feature engineering:\")\n",
        "    print(\"Test accuracy for best dev model: %.3f, 95%% CIs: [%.3f %.3f]\\n\" % (accuracy, lower, upper))"
      ],
      "metadata": {
        "id": "GOq5tnEBR_uo"
      },
      "execution_count": 22,
      "outputs": []
    },
    {
      "cell_type": "code",
      "source": [
        "run_predictive_model(trainingFile, devFile, testFile, ordinal_values)"
      ],
      "metadata": {
        "colab": {
          "base_uri": "https://localhost:8080/"
        },
        "id": "3uQemie7SG-4",
        "outputId": "5c2d2f17-9871-4797-b59e-f9d86a771bd4"
      },
      "execution_count": 23,
      "outputs": [
        {
          "output_type": "stream",
          "name": "stdout",
          "text": [
            "Accuracy for predictive ordinal model with feature engineering:\n",
            "Test accuracy for best dev model: 0.480, 95% CIs: [0.382 0.578]\n",
            "\n"
          ]
        }
      ]
    },
    {
      "cell_type": "markdown",
      "source": [
        "## **Part B: Performance Analysis**"
      ],
      "metadata": {
        "id": "dPqOlj9dkjAd"
      }
    },
    {
      "cell_type": "markdown",
      "source": [
        "Our word analysis is attached as a pdf in the bcourses submission."
      ],
      "metadata": {
        "id": "5TW-7sDtG3Ah"
      }
    },
    {
      "cell_type": "code",
      "source": [
        "import numpy as np\n",
        "import matplotlib.pyplot as plt\n",
        "from sklearn.metrics import confusion_matrix, ConfusionMatrixDisplay\n",
        "from sklearn.linear_model import LogisticRegression\n",
        "import numpy as np\n",
        "\n",
        "trainX, trainY, orig_trainY=load_ordinal_data(trainingFile, ordinal_values)\n",
        "devX, devY, orig_devY=load_ordinal_data(devFile, ordinal_values)\n",
        "testX, testY, orig_testY=load_ordinal_data(testFile, ordinal_values)\n",
        "\n",
        "simple_classifier = OrdinalClassifier(\n",
        "    ordinal_values=[\"1\", \"2\", \"3\", \"4\", \"5\"],\n",
        "    feature_method=persuasiveness_features,\n",
        "    trainX=trainX, trainY=trainY, devX=devX, devY=devY, testX=testX, testY=testY,\n",
        "    orig_trainY=orig_trainY, orig_devY=orig_devY, orig_testY=orig_testY\n",
        ")\n",
        "simple_classifier.train()\n",
        "\n",
        "def plot_confusion_matrix(true_labels, predicted_labels, classes):\n",
        "    cm = confusion_matrix(true_labels, predicted_labels, labels=classes)\n",
        "    disp = ConfusionMatrixDisplay(confusion_matrix=cm, display_labels=classes)\n",
        "    disp.plot(cmap=plt.cm.Blues)\n",
        "    plt.title('Confusion Matrix')\n",
        "    plt.show()\n",
        "\n",
        "def feature_importance(classifier, feature_vocab):\n",
        "    for idx, model in enumerate(classifier.log_regs):\n",
        "        if model is not None:\n",
        "            importance = model.coef_[0]\n",
        "            features = {v: k for k, v in feature_vocab.items()}\n",
        "            sorted_features = sorted(zip(importance, features.values()), reverse=True)\n",
        "            print(f\"Most important features for classifying above vs below {classifier.ordinal_values[idx + 1]}:\")\n",
        "            for imp, feat in sorted_features[:10]:\n",
        "                print(f\"{feat}: {imp:.4f}\")\n",
        "            print(\"\\n\")\n",
        "\n",
        "def run_analysis(classifier):\n",
        "    testX = classifier.testX\n",
        "    orig_testY = classifier.orig_testY\n",
        "    predictions = []\n",
        "    for idx, ordinal_value in enumerate(classifier.ordinal_values[:-1]):\n",
        "        proba = classifier.log_regs[idx].predict_proba(testX)[:, 1]\n",
        "        predictions.append(proba)\n",
        "\n",
        "    predictions = np.array(predictions)\n",
        "    final_predictions = []\n",
        "\n",
        "    for data_point in range(len(predictions[0])):\n",
        "        ordinal_preds = np.zeros(len(classifier.ordinal_values))\n",
        "        for ordinal in range(len(classifier.ordinal_values) - 1):\n",
        "            if ordinal == 0:\n",
        "                ordinal_preds[ordinal] = 1 - predictions[ordinal][data_point]\n",
        "            else:\n",
        "                ordinal_preds[ordinal] = predictions[ordinal - 1][data_point] - predictions[ordinal][data_point]\n",
        "        ordinal_preds[len(classifier.ordinal_values) - 1] = predictions[len(predictions) - 1][data_point]\n",
        "        prediction = np.argmax(ordinal_preds)\n",
        "        final_predictions.append(classifier.ordinal_values[prediction])\n",
        "\n",
        "    plot_confusion_matrix(orig_testY, final_predictions, classifier.ordinal_values)\n",
        "    feature_importance(classifier, classifier.feature_vocab)\n",
        "\n",
        "run_analysis(simple_classifier)\n",
        "\n",
        "\n",
        "def plot_regression_coefficients(classifiers, feature_vocab):\n",
        "    feature_names = [None] * len(feature_vocab)\n",
        "    for feature, index in feature_vocab.items():\n",
        "        if index < len(feature_names):\n",
        "            feature_names[index] = feature\n",
        "\n",
        "    for i, classifier in enumerate(classifiers):\n",
        "        if classifier is not None:\n",
        "            coefs = classifier.coef_[0]\n",
        "            min_length = min(len(coefs), len(feature_names))\n",
        "            indices = np.argsort(coefs)[-min_length:]\n",
        "\n",
        "            plt.figure(figsize=(10, 6))\n",
        "            plt.title(f\"Top 10 Important Features for Classifying Threshold > {i+1}\")\n",
        "            plt.barh(range(len(indices)), coefs[indices], align='center', color='gold')\n",
        "            plt.yticks(range(len(indices)), [feature_names[j] for j in indices])\n",
        "            plt.xlabel(\"Coefficient Value\")\n",
        "            plt.show()\n",
        "\n",
        "def regression_analysis(classifier, feature_vocab):\n",
        "    if classifier.feature_vocab and classifier.log_regs:\n",
        "        plot_regression_coefficients(classifier.log_regs, classifier.feature_vocab)\n",
        "    else:\n",
        "        print(\"Feature vocabulary or classifiers are not properly initialized.\")\n",
        "\n",
        "regression_analysis(simple_classifier, simple_classifier.feature_vocab)\n",
        "\n"
      ],
      "metadata": {
        "id": "R7VrigyekpN0",
        "colab": {
          "base_uri": "https://localhost:8080/",
          "height": 1000
        },
        "outputId": "05f280d8-27fc-4de9-e53e-6fe0f090d633"
      },
      "execution_count": 24,
      "outputs": [
        {
          "output_type": "display_data",
          "data": {
            "text/plain": [
              "<Figure size 640x480 with 2 Axes>"
            ],
            "image/png": "[encoded data removed]"
          },
          "metadata": {}
        },
        {
          "output_type": "stream",
          "name": "stdout",
          "text": [
            "Most important features for classifying above vs below 2:\n",
            "english: 0.1413\n",
            "compelling_words: 0.0606\n",
            "punctuation: 0.0518\n",
            "action_words: 0.0069\n",
            "length: -0.0000\n",
            "alliteration: -0.0605\n",
            "rhyme: -0.1790\n",
            "\n",
            "\n",
            "Most important features for classifying above vs below 3:\n",
            "english: 0.2789\n",
            "rhyme: 0.1641\n",
            "action_words: 0.0264\n",
            "length: 0.0000\n",
            "alliteration: -0.0080\n",
            "compelling_words: -0.0349\n",
            "punctuation: -0.3406\n",
            "\n",
            "\n",
            "Most important features for classifying above vs below 4:\n",
            "english: 0.2042\n",
            "rhyme: 0.1812\n",
            "alliteration: 0.0707\n",
            "action_words: 0.0582\n",
            "length: -0.0000\n",
            "compelling_words: -0.0013\n",
            "punctuation: -0.1713\n",
            "\n",
            "\n",
            "Most important features for classifying above vs below 5:\n",
            "alliteration: 0.3538\n",
            "english: 0.1590\n",
            "compelling_words: 0.1405\n",
            "rhyme: 0.0776\n",
            "length: 0.0000\n",
            "action_words: -0.0096\n",
            "punctuation: -0.0642\n",
            "\n",
            "\n"
          ]
        },
        {
          "output_type": "display_data",
          "data": {
            "text/plain": [
              "<Figure size 1000x600 with 1 Axes>"
            ],
            "image/png": "[encoded data removed]"
          },
          "metadata": {}
        },
        {
          "output_type": "display_data",
          "data": {
            "text/plain": [
              "<Figure size 1000x600 with 1 Axes>"
            ],
            "image/png": "[encoded data removed]"
          },
          "metadata": {}
        },
        {
          "output_type": "display_data",
          "data": {
            "text/plain": [
              "<Figure size 1000x600 with 1 Axes>"
            ],
            "image/png": "[encoded data removed]"
          },
          "metadata": {}
        },
        {
          "output_type": "display_data",
          "data": {
            "text/plain": [
              "<Figure size 1000x600 with 1 Axes>"
            ],
            "image/png": "[encoded data removed]"
          },
          "metadata": {}
        }
      ]
    }
  ],
  "metadata": {
    "colab": {
      "provenance": []
    },
    "kernelspec": {
      "display_name": "Python 3 (ipykernel)",
      "language": "python",
      "name": "python3"
    },
    "language_info": {
      "codemirror_mode": {
        "name": "ipython",
        "version": 3
      },
      "file_extension": ".py",
      "mimetype": "text/x-python",
      "name": "python",
      "nbconvert_exporter": "python",
      "pygments_lexer": "ipython3",
      "version": "3.8.3"
    }
  },
  "nbformat": 4,
  "nbformat_minor": 0
}